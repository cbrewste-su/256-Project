{
 "cells": [
  {
   "cell_type": "code",
   "execution_count": 20,
   "metadata": {
    "collapsed": false
   },
   "outputs": [
    {
     "name": "stdout",
     "output_type": "stream",
     "text": [
      "Enter your location (City, State): c\n",
      "{'results': [{'formatted_address': 'c, 351 Melton Rd, Burns Harbor, IN 46304, USA', 'geometry': {'location': {'lat': 41.6005641, 'lng': -87.13428189999999}, 'location_type': 'ROOFTOP', 'viewport': {'southwest': {'lat': 41.5992338697085, 'lng': -87.1356268302915}, 'northeast': {'lat': 41.6019318302915, 'lng': -87.1329288697085}}, 'bounds': {'southwest': {'lat': 41.6005381, 'lng': -87.1343423}, 'northeast': {'lat': 41.6006276, 'lng': -87.1342134}}}, 'types': ['premise'], 'address_components': [{'types': ['premise'], 'long_name': 'c', 'short_name': 'c'}, {'types': ['street_number'], 'long_name': '351', 'short_name': '351'}, {'types': ['route'], 'long_name': 'Melton Road', 'short_name': 'Melton Rd'}, {'types': ['locality', 'political'], 'long_name': 'Burns Harbor', 'short_name': 'Burns Harbor'}, {'types': ['administrative_area_level_3', 'political'], 'long_name': 'Westchester Township', 'short_name': 'Westchester Township'}, {'types': ['administrative_area_level_2', 'political'], 'long_name': 'Porter County', 'short_name': 'Porter County'}, {'types': ['administrative_area_level_1', 'political'], 'long_name': 'Indiana', 'short_name': 'IN'}, {'types': ['country', 'political'], 'long_name': 'United States', 'short_name': 'US'}, {'types': ['postal_code'], 'long_name': '46304', 'short_name': '46304'}], 'place_id': 'ChIJ414_KNK9EYgRJLeED5XuosI'}, {'formatted_address': 'c, US 76 AT US 19 & HWY 129 Murphy Hwy, Blairsville, GA 30512, USA', 'geometry': {'location': {'lat': 34.8723546, 'lng': -83.96413199999999}, 'location_type': 'ROOFTOP', 'viewport': {'southwest': {'lat': 34.8709600697085, 'lng': -83.9654446302915}, 'northeast': {'lat': 34.8736580302915, 'lng': -83.96274666970848}}, 'bounds': {'southwest': {'lat': 34.8721618, 'lng': -83.96426679999999}, 'northeast': {'lat': 34.8724563, 'lng': -83.96392449999999}}}, 'types': ['premise'], 'address_components': [{'types': ['premise'], 'long_name': 'c', 'short_name': 'c'}, {'types': ['street_number'], 'long_name': 'US 76 AT US 19 & HWY 129', 'short_name': 'US 76 AT US 19 & HWY 129'}, {'types': ['route'], 'long_name': 'Murphy Highway', 'short_name': 'Murphy Hwy'}, {'types': ['locality', 'political'], 'long_name': 'Blairsville', 'short_name': 'Blairsville'}, {'types': ['administrative_area_level_2', 'political'], 'long_name': 'Union County', 'short_name': 'Union County'}, {'types': ['administrative_area_level_1', 'political'], 'long_name': 'Georgia', 'short_name': 'GA'}, {'types': ['country', 'political'], 'long_name': 'United States', 'short_name': 'US'}, {'types': ['postal_code'], 'long_name': '30512', 'short_name': '30512'}], 'place_id': 'ChIJhbVq_JkXX4gRshPjp6ZwX-0'}, {'formatted_address': 'C, 276 Calef Hwy, Epping, NH 03042, USA', 'geometry': {'location': {'lat': 43.0463598, 'lng': -71.0600606}, 'location_type': 'ROOFTOP', 'viewport': {'southwest': {'lat': 43.0450137697085, 'lng': -71.0614237802915}, 'northeast': {'lat': 43.0477117302915, 'lng': -71.0587258197085}}, 'bounds': {'southwest': {'lat': 43.0461403, 'lng': -71.0603871}, 'northeast': {'lat': 43.0465852, 'lng': -71.05976249999999}}}, 'types': ['premise'], 'address_components': [{'types': ['premise'], 'long_name': 'C', 'short_name': 'C'}, {'types': ['street_number'], 'long_name': '276', 'short_name': '276'}, {'types': ['route'], 'long_name': 'Calef Highway', 'short_name': 'Calef Hwy'}, {'types': ['locality', 'political'], 'long_name': 'Epping', 'short_name': 'Epping'}, {'types': ['administrative_area_level_2', 'political'], 'long_name': 'Rockingham County', 'short_name': 'Rockingham County'}, {'types': ['administrative_area_level_1', 'political'], 'long_name': 'New Hampshire', 'short_name': 'NH'}, {'types': ['country', 'political'], 'long_name': 'United States', 'short_name': 'US'}, {'types': ['postal_code'], 'long_name': '03042', 'short_name': '03042'}], 'place_id': 'ChIJsafsSc_z4okRYRPXNwWxK54'}, {'formatted_address': '1225 W Prospect Rd, Fort Collins, CO 80526, USA', 'geometry': {'location': {'lat': 40.5656579, 'lng': -105.1015013}, 'location_type': 'ROOFTOP', 'viewport': {'southwest': {'lat': 40.5642701197085, 'lng': -105.1028561802915}, 'northeast': {'lat': 40.5669680802915, 'lng': -105.1001582197085}}, 'bounds': {'southwest': {'lat': 40.5654324, 'lng': -105.1016082}, 'northeast': {'lat': 40.5658058, 'lng': -105.1014062}}}, 'types': ['establishment', 'point_of_interest', 'premise'], 'address_components': [{'types': ['street_number'], 'long_name': '1225', 'short_name': '1225'}, {'types': ['route'], 'long_name': 'West Prospect Road', 'short_name': 'W Prospect Rd'}, {'types': ['neighborhood', 'political'], 'long_name': 'Prospect/Shields', 'short_name': 'Prospect/Shields'}, {'types': ['locality', 'political'], 'long_name': 'Fort Collins', 'short_name': 'Fort Collins'}, {'types': ['administrative_area_level_2', 'political'], 'long_name': 'Larimer County', 'short_name': 'Larimer County'}, {'types': ['administrative_area_level_1', 'political'], 'long_name': 'Colorado', 'short_name': 'CO'}, {'types': ['country', 'political'], 'long_name': 'United States', 'short_name': 'US'}, {'types': ['postal_code'], 'long_name': '80526', 'short_name': '80526'}], 'place_id': 'ChIJc5h3kUpKaYcRd_-JSDAuWHA'}, {'formatted_address': 'C, 17801 W Washington St, Gurnee, IL 60031, USA', 'geometry': {'location': {'lat': 42.3620374, 'lng': -87.9830305}, 'location_type': 'ROOFTOP', 'viewport': {'southwest': {'lat': 42.3606824697085, 'lng': -87.9843821802915}, 'northeast': {'lat': 42.3633804302915, 'lng': -87.9816842197085}}, 'bounds': {'southwest': {'lat': 42.3619863, 'lng': -87.9830947}, 'northeast': {'lat': 42.36207659999999, 'lng': -87.98297170000001}}}, 'types': ['premise'], 'address_components': [{'types': ['premise'], 'long_name': 'C', 'short_name': 'C'}, {'types': ['street_number'], 'long_name': '17801', 'short_name': '17801'}, {'types': ['route'], 'long_name': 'West Washington Street', 'short_name': 'W Washington St'}, {'types': ['locality', 'political'], 'long_name': 'Gurnee', 'short_name': 'Gurnee'}, {'types': ['administrative_area_level_3', 'political'], 'long_name': 'Warren Township', 'short_name': 'Warren Township'}, {'types': ['administrative_area_level_2', 'political'], 'long_name': 'Lake County', 'short_name': 'Lake County'}, {'types': ['administrative_area_level_1', 'political'], 'long_name': 'Illinois', 'short_name': 'IL'}, {'types': ['country', 'political'], 'long_name': 'United States', 'short_name': 'US'}, {'types': ['postal_code'], 'long_name': '60031', 'short_name': '60031'}], 'place_id': 'ChIJ68D2DzqQD4gRhHMLvlqRMZo'}, {'formatted_address': 'C, 1201 Wakarusa Dr, Lawrence, KS 66049, USA', 'geometry': {'location': {'lat': 38.9642634, 'lng': -95.3080042}, 'location_type': 'ROOFTOP', 'viewport': {'southwest': {'lat': 38.9629218697085, 'lng': -95.3093420302915}, 'northeast': {'lat': 38.9656198302915, 'lng': -95.3066440697085}}, 'bounds': {'southwest': {'lat': 38.9640784, 'lng': -95.30822719999999}, 'northeast': {'lat': 38.9644633, 'lng': -95.3077589}}}, 'types': ['premise'], 'address_components': [{'types': ['premise'], 'long_name': 'C', 'short_name': 'C'}, {'types': ['street_number'], 'long_name': '1201', 'short_name': '1201'}, {'types': ['route'], 'long_name': 'Wakarusa Drive', 'short_name': 'Wakarusa Dr'}, {'types': ['neighborhood', 'political'], 'long_name': 'West Lawrence', 'short_name': 'West Lawrence'}, {'types': ['locality', 'political'], 'long_name': 'Lawrence', 'short_name': 'Lawrence'}, {'types': ['administrative_area_level_2', 'political'], 'long_name': 'Douglas County', 'short_name': 'Douglas County'}, {'types': ['administrative_area_level_1', 'political'], 'long_name': 'Kansas', 'short_name': 'KS'}, {'types': ['country', 'political'], 'long_name': 'United States', 'short_name': 'US'}, {'types': ['postal_code'], 'long_name': '66049', 'short_name': '66049'}], 'place_id': 'ChIJCaevBKduv4cRSsaGRSq7XVc'}, {'formatted_address': 'C, 501 Danville Blvd, Danville, CA 94526, USA', 'geometry': {'location': {'lat': 37.82484, 'lng': -122.0050452}, 'location_type': 'ROOFTOP', 'viewport': {'southwest': {'lat': 37.8236357197085, 'lng': -122.0064432302915}, 'northeast': {'lat': 37.8263336802915, 'lng': -122.0037452697085}}, 'bounds': {'southwest': {'lat': 37.8247135, 'lng': -122.0054497}, 'northeast': {'lat': 37.82525589999999, 'lng': -122.0047388}}}, 'types': ['premise'], 'address_components': [{'types': ['premise'], 'long_name': 'C', 'short_name': 'C'}, {'types': ['street_number'], 'long_name': '501', 'short_name': '501'}, {'types': ['route'], 'long_name': 'Danville Boulevard', 'short_name': 'Danville Blvd'}, {'types': ['locality', 'political'], 'long_name': 'Danville', 'short_name': 'Danville'}, {'types': ['administrative_area_level_2', 'political'], 'long_name': 'Contra Costa County', 'short_name': 'Contra Costa County'}, {'types': ['administrative_area_level_1', 'political'], 'long_name': 'California', 'short_name': 'CA'}, {'types': ['country', 'political'], 'long_name': 'United States', 'short_name': 'US'}, {'types': ['postal_code'], 'long_name': '94526', 'short_name': '94526'}], 'place_id': 'ChIJ5dh1zlmLj4ARDK-SJuVFXJc'}, {'formatted_address': '438 W Main St, Rexburg, ID 83440, USA', 'geometry': {'location': {'lat': 43.8268362, 'lng': -111.7969286}, 'location_type': 'ROOFTOP', 'viewport': {'southwest': {'lat': 43.82550841970851, 'lng': -111.7982661802915}, 'northeast': {'lat': 43.8282063802915, 'lng': -111.7955682197085}}, 'bounds': {'southwest': {'lat': 43.82671000000001, 'lng': -111.7969995}, 'northeast': {'lat': 43.8270048, 'lng': -111.7968349}}}, 'types': ['establishment', 'point_of_interest', 'premise'], 'address_components': [{'types': ['street_number'], 'long_name': '438', 'short_name': '438'}, {'types': ['route'], 'long_name': 'West Main Street', 'short_name': 'W Main St'}, {'types': ['locality', 'political'], 'long_name': 'Rexburg', 'short_name': 'Rexburg'}, {'types': ['administrative_area_level_2', 'political'], 'long_name': 'Madison County', 'short_name': 'Madison County'}, {'types': ['administrative_area_level_1', 'political'], 'long_name': 'Idaho', 'short_name': 'ID'}, {'types': ['country', 'political'], 'long_name': 'United States', 'short_name': 'US'}, {'types': ['postal_code'], 'long_name': '83440', 'short_name': '83440'}], 'place_id': 'ChIJ4dtEHq4LVFMRIIyN1ztdQqk'}, {'formatted_address': 'A Coruña, Spain', 'geometry': {'location': {'lat': 43.3623364, 'lng': -8.411594}, 'location_type': 'APPROXIMATE', 'viewport': {'southwest': {'lat': 42.4590949, 'lng': -9.301456199999999}, 'northeast': {'lat': 43.7923795, 'lng': -7.6617305}}, 'bounds': {'southwest': {'lat': 42.4590335, 'lng': -9.3015156}, 'northeast': {'lat': 43.7923795, 'lng': -7.6617212}}}, 'types': ['administrative_area_level_2', 'political'], 'address_components': [{'types': ['administrative_area_level_2', 'political'], 'long_name': 'A Coruña', 'short_name': 'C'}, {'types': ['administrative_area_level_1', 'political'], 'long_name': 'Galicia', 'short_name': 'GA'}, {'types': ['country', 'political'], 'long_name': 'Spain', 'short_name': 'ES'}], 'place_id': 'ChIJGQVeRvRfLg0RIMrJc4L1BAM'}], 'status': 'OK'}\n"
     ]
    }
   ],
   "source": [
    "import requests\n",
    "import json\n",
    "\n",
    "def opensecrets_api(coords):\n",
    "    key = \"92ee5b1c77abc289291fd58b74da3cc1\"\n",
    "    r = requests.get(\"http://www.opensecrets.org/api/?method=getLegislators&id=NJ&apikey=%s\" % (key))\n",
    "    \n",
    "    \n",
    "def google_geocode(location):\n",
    "    params = { 'address' : location}\n",
    "    url = \"http://maps.googleapis.com/maps/api/geocode/json\"\n",
    "    response = requests.get(url, params=params)\n",
    "    geodata = response.json() #decodes encoded json data to make it readable\n",
    "    return geodata\n",
    "\n",
    "user_location = input(\"Enter your location (City, State): \")\n",
    "\n",
    "geodata = google_geocode(user_location)\n",
    "\n",
    "print(geodata)"
   ]
  },
  {
   "cell_type": "code",
   "execution_count": null,
   "metadata": {
    "collapsed": true
   },
   "outputs": [],
   "source": []
  }
 ],
 "metadata": {
  "kernelspec": {
   "display_name": "Python 3",
   "language": "python",
   "name": "python3"
  },
  "language_info": {
   "codemirror_mode": {
    "name": "ipython",
    "version": 3
   },
   "file_extension": ".py",
   "mimetype": "text/x-python",
   "name": "python",
   "nbconvert_exporter": "python",
   "pygments_lexer": "ipython3",
   "version": "3.5.2"
  }
 },
 "nbformat": 4,
 "nbformat_minor": 2
}
